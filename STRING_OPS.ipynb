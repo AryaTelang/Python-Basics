{
  "cells": [
    {
      "cell_type": "markdown",
      "metadata": {
        "id": "a58c342e-9d2d-45d2-8222-48d6f64e86b4"
      },
      "source": [
        "<h2>Table of Contents</h2>\n",
        "<div class=\"alert alert-block alert-info\" style=\"margin-top: 20px\">\n",
        "    <ul>\n",
        "        <li>\n",
        "            <a href=\"#What-are-Strings?\">What are Strings?</a>\n",
        "        </li>\n",
        "        <li>\n",
        "            <a href=\"#Indexing\">Indexing</a>\n",
        "            <ul>\n",
        "                <li><a href=\"#Negative-Indexing\">Negative Indexing</a></li>\n",
        "                <li><a href=\"#Slicing\">Slicing</a></li>\n",
        "                <li><a href=\"#Stride\">Stride</a></li>\n",
        "                <li><a href=\"#Concatenate-Strings\">Concatenate Strings</a></li>\n",
        "            </ul>\n",
        "        </li>\n",
        "        <li>\n",
        "            <a href=\"#Escape-Sequences\">Escape Sequences</a>\n",
        "        </li>\n",
        "        <li>\n",
        "            <a href=\"#String-Manipulation-Operations\">String Manipulation Operations</a>\n",
        "        </li>\n",
        "        <li>\n",
        "            <a href=\"#Quiz-on-Strings\">Quiz on Strings</a>\n",
        "        </li>\n",
        "    </ul>\n",
        "\n",
        "</div>\n",
        "\n",
        "<hr>\n"
      ]
    },
    {
      "cell_type": "markdown",
      "metadata": {
        "id": "a3e09dd7-efdf-4701-a8d3-bff9fb8b013b"
      },
      "source": [
        "## What are Strings?\n"
      ]
    },
    {
      "cell_type": "markdown",
      "metadata": {
        "id": "ba5b8da0-1af9-49b0-8ae3-36191e1aec20"
      },
      "source": [
        "The following example shows a string contained within 2 quotation marks:\n"
      ]
    },
    {
      "cell_type": "code",
      "metadata": {
        "colab": {
          "base_uri": "https://localhost:8080/",
          "height": 36
        },
        "id": "20e4d974-a04d-4cde-ac53-6cf0c72381fb",
        "outputId": "83905609-9874-4989-f1f0-89d988d95fff"
      },
      "outputs": [
        {
          "output_type": "execute_result",
          "data": {
            "text/plain": [
              "'Arya'"
            ],
            "application/vnd.google.colaboratory.intrinsic+json": {
              "type": "string"
            }
          },
          "metadata": {},
          "execution_count": 55
        }
      ],
      "source": [
        "# Use quotation marks for defining string\n",
        "\"Arya\""
      ],
      "execution_count": null
    },
    {
      "cell_type": "markdown",
      "metadata": {
        "id": "0f3d8420-45d3-4aeb-841c-03db72619b5c"
      },
      "source": [
        "We can also use single quotation marks:\n"
      ]
    },
    {
      "cell_type": "code",
      "metadata": {
        "colab": {
          "base_uri": "https://localhost:8080/",
          "height": 36
        },
        "id": "4e8c0d51-bb9d-45c9-bf96-33ffe061014d",
        "outputId": "f467a824-f45a-4f74-96c9-c453cf896d68"
      },
      "outputs": [
        {
          "output_type": "execute_result",
          "data": {
            "text/plain": [
              "'Arya Telang'"
            ],
            "application/vnd.google.colaboratory.intrinsic+json": {
              "type": "string"
            }
          },
          "metadata": {},
          "execution_count": 56
        }
      ],
      "source": [
        "# Use single quotation marks for defining string\n",
        "'Arya Telang'"
      ],
      "execution_count": null
    },
    {
      "cell_type": "markdown",
      "metadata": {
        "id": "f42c469b-06a1-47a2-aa7e-d84d0f43e96a"
      },
      "source": [
        "A string can be a combination of spaces and digits:\n"
      ]
    },
    {
      "cell_type": "code",
      "metadata": {
        "colab": {
          "base_uri": "https://localhost:8080/",
          "height": 36
        },
        "id": "c8d5f107-0307-4dbf-b782-44bd1b83bac3",
        "outputId": "54d1d2e7-1fa1-4faa-e4cc-c8bdfcf57bc2"
      },
      "outputs": [
        {
          "output_type": "execute_result",
          "data": {
            "text/plain": [
              "'12   34'"
            ],
            "application/vnd.google.colaboratory.intrinsic+json": {
              "type": "string"
            }
          },
          "metadata": {},
          "execution_count": 57
        }
      ],
      "source": [
        "# Digitals and spaces in string\n",
        "'12   34'"
      ],
      "execution_count": null
    },
    {
      "cell_type": "markdown",
      "metadata": {
        "id": "ae3d093c-b0fb-4321-960a-ceac101c292f"
      },
      "source": [
        "A string can also be a combination of special characters :\n"
      ]
    },
    {
      "cell_type": "code",
      "metadata": {
        "colab": {
          "base_uri": "https://localhost:8080/",
          "height": 36
        },
        "id": "914c6697-0f0f-4a14-8b3a-077a8eccfbb7",
        "outputId": "3fff8ece-6066-4079-8b89-be15b8fdd148"
      },
      "outputs": [
        {
          "output_type": "execute_result",
          "data": {
            "text/plain": [
              "'@#((#))'"
            ],
            "application/vnd.google.colaboratory.intrinsic+json": {
              "type": "string"
            }
          },
          "metadata": {},
          "execution_count": 58
        }
      ],
      "source": [
        "# Special characters in string\n",
        "'@#((#))'"
      ],
      "execution_count": null
    },
    {
      "cell_type": "markdown",
      "metadata": {
        "id": "d6b8db0a-665e-4ce9-805f-795c3c0e5ee0"
      },
      "source": [
        "We can print our string using the print statement:\n"
      ]
    },
    {
      "cell_type": "code",
      "metadata": {
        "colab": {
          "base_uri": "https://localhost:8080/"
        },
        "id": "c5327427-a5b2-44c3-ac30-beee39e40698",
        "outputId": "5454f003-a4e2-4444-e0ae-1e642406e9e7"
      },
      "outputs": [
        {
          "output_type": "stream",
          "name": "stdout",
          "text": [
            "Minecraft\n"
          ]
        }
      ],
      "source": [
        "# Print the string\n",
        "print('Minecraft')"
      ],
      "execution_count": null
    },
    {
      "cell_type": "markdown",
      "metadata": {
        "id": "6501d4c4-ac73-4f35-b63a-a31797d5a09f"
      },
      "source": [
        "We can bind or assign a string to another variable:\n"
      ]
    },
    {
      "cell_type": "code",
      "metadata": {
        "colab": {
          "base_uri": "https://localhost:8080/",
          "height": 36
        },
        "id": "c899df11-14f5-4800-ac32-1c3aa11abede",
        "outputId": "b8dcacfa-4beb-447a-a1fb-3b8c7679eb2f"
      },
      "outputs": [
        {
          "output_type": "execute_result",
          "data": {
            "text/plain": [
              "'Ender Dragon'"
            ],
            "application/vnd.google.colaboratory.intrinsic+json": {
              "type": "string"
            }
          },
          "metadata": {},
          "execution_count": 61
        }
      ],
      "source": [
        "# Assign string to variable\n",
        "s='Ender Dragon'\n",
        "s"
      ],
      "execution_count": null
    },
    {
      "cell_type": "markdown",
      "metadata": {
        "id": "4490e611-d3e9-4e40-bf74-83cb40c5e282"
      },
      "source": [
        "<hr>\n"
      ]
    },
    {
      "cell_type": "markdown",
      "metadata": {
        "id": "2a4b256d-0a46-458a-86e6-ac63413399f9"
      },
      "source": [
        "## Indexing\n"
      ]
    },
    {
      "cell_type": "markdown",
      "metadata": {
        "id": "7ef7a301-40a0-4a5e-9e2f-4a08096e7c33"
      },
      "source": [
        "It is helpful to think of a string as an ordered sequence. Each element in the sequence can be accessed using an index represented by the array of numbers:\n"
      ]
    },
    {
      "cell_type": "markdown",
      "metadata": {
        "id": "6a8145b5-baa5-4e58-954b-d83944c22d8b"
      },
      "source": [
        "<img src=\"https://cf-courses-data.s3.us.cloud-object-storage.appdomain.cloud/IBMDeveloperSkillsNetwork-PY0101EN-SkillsNetwork/labs/Module%201/images/StringsIndex.png\" width=\"600\" align=\"center\">\n"
      ]
    },
    {
      "cell_type": "markdown",
      "metadata": {
        "id": "cfe18329-0470-4e17-9c3c-fab74a4b3d34"
      },
      "source": [
        "The first index can be accessed as follows:\n"
      ]
    },
    {
      "cell_type": "markdown",
      "metadata": {
        "id": "3ae77b56-5eca-4388-8842-6710950a3380"
      },
      "source": [
        "<hr/>\n",
        "<div class=\"alert alert-success alertsuccess\" style=\"margin-top: 20px\">\n",
        "[Tip]: Because indexing starts at 0, it means the first index is on the index 0.\n",
        "</div>\n",
        "<hr/>\n"
      ]
    },
    {
      "cell_type": "code",
      "metadata": {
        "colab": {
          "base_uri": "https://localhost:8080/",
          "height": 36
        },
        "id": "48bf7b57-67aa-41df-9052-3a69072abeb3",
        "outputId": "87fb0e23-c55e-4ad4-cd1e-e955a2685a82"
      },
      "outputs": [
        {
          "output_type": "execute_result",
          "data": {
            "text/plain": [
              "'E'"
            ],
            "application/vnd.google.colaboratory.intrinsic+json": {
              "type": "string"
            }
          },
          "metadata": {},
          "execution_count": 63
        }
      ],
      "source": [
        "# Print the first element in the string\n",
        "s[0]"
      ],
      "execution_count": null
    },
    {
      "cell_type": "markdown",
      "metadata": {
        "id": "59dd510e-f648-498f-8489-cf37be2795bb"
      },
      "source": [
        "We can access index 6:\n"
      ]
    },
    {
      "cell_type": "code",
      "metadata": {
        "colab": {
          "base_uri": "https://localhost:8080/",
          "height": 36
        },
        "id": "9e3196ab-f9fc-4eef-8946-3fffdf36f472",
        "outputId": "792a951f-e5a1-47cb-ddf8-8726682661a3"
      },
      "outputs": [
        {
          "output_type": "execute_result",
          "data": {
            "text/plain": [
              "'D'"
            ],
            "application/vnd.google.colaboratory.intrinsic+json": {
              "type": "string"
            }
          },
          "metadata": {},
          "execution_count": 64
        }
      ],
      "source": [
        "# Print the element on index 6 in the string\n",
        "s[6]"
      ],
      "execution_count": null
    },
    {
      "cell_type": "code",
      "metadata": {
        "colab": {
          "base_uri": "https://localhost:8080/",
          "height": 36
        },
        "id": "95f4119e-e3d4-43ac-8abf-d9e24e524159",
        "outputId": "7fee7b35-dc3f-446e-94e6-f70751e20fad"
      },
      "outputs": [
        {
          "output_type": "execute_result",
          "data": {
            "text/plain": [
              "'g'"
            ],
            "application/vnd.google.colaboratory.intrinsic+json": {
              "type": "string"
            }
          },
          "metadata": {},
          "execution_count": 66
        }
      ],
      "source": [
        "# Print the element on the 9th index in the string\n",
        "s[9]"
      ],
      "execution_count": null
    },
    {
      "cell_type": "markdown",
      "metadata": {
        "id": "748270ae-8c34-4ea7-9832-5155de5c81c9"
      },
      "source": [
        "### Negative Indexing\n"
      ]
    },
    {
      "cell_type": "markdown",
      "metadata": {
        "id": "94a0d3c3-c452-4bc1-a28e-00dad63a487a"
      },
      "source": [
        "We can also use negative indexing with strings:\n"
      ]
    },
    {
      "cell_type": "markdown",
      "metadata": {
        "id": "5bfeab19-db6b-48b2-a1e8-09ea041badb7"
      },
      "source": [
        "<img src=\"https://cf-courses-data.s3.us.cloud-object-storage.appdomain.cloud/IBMDeveloperSkillsNetwork-PY0101EN-SkillsNetwork/labs/Module%201/images/StringsNeg.png\" width=\"600\" align=\"center\">\n"
      ]
    },
    {
      "cell_type": "markdown",
      "metadata": {
        "id": "11944ea3-281e-4bc8-9776-8e9d849b6710"
      },
      "source": [
        "Negative index can help us to count the element from the end of the string.\n"
      ]
    },
    {
      "cell_type": "markdown",
      "metadata": {
        "id": "58f34505-6b5e-443b-b0a3-a0825f613bbe"
      },
      "source": [
        "The last element is given by the index -1:\n"
      ]
    },
    {
      "cell_type": "code",
      "metadata": {
        "colab": {
          "base_uri": "https://localhost:8080/"
        },
        "id": "607d7918-2a67-424c-8e95-53107f17a428",
        "outputId": "ae6b0185-aae1-4236-9ac7-b56b2bed7b34"
      },
      "outputs": [
        {
          "output_type": "stream",
          "name": "stdout",
          "text": [
            "n\n"
          ]
        }
      ],
      "source": [
        "# Print the last element in the string\n",
        "\n",
        "print(s[-1])"
      ],
      "execution_count": null
    },
    {
      "cell_type": "markdown",
      "metadata": {
        "id": "b0f0583f-7129-4cce-a1b4-d5d9a59dde1b"
      },
      "source": [
        "The first element can be obtained by  index -15:\n"
      ]
    },
    {
      "cell_type": "code",
      "metadata": {
        "colab": {
          "base_uri": "https://localhost:8080/"
        },
        "id": "273fb76e-08f8-47ed-bdec-e856138c4baf",
        "outputId": "416e9337-a316-4526-991c-b71079691159"
      },
      "outputs": [
        {
          "output_type": "stream",
          "name": "stdout",
          "text": [
            "E\n"
          ]
        }
      ],
      "source": [
        "# Print the first element in the string\n",
        "\n",
        "print(s[-len(s)])"
      ],
      "execution_count": null
    },
    {
      "cell_type": "markdown",
      "metadata": {
        "id": "d24833d0-13a0-47aa-ac75-49fbd9809fe1"
      },
      "source": [
        "We can find the number of characters in a string by using <code>len</code>, short for length:\n"
      ]
    },
    {
      "cell_type": "code",
      "metadata": {
        "colab": {
          "base_uri": "https://localhost:8080/"
        },
        "id": "d9bcfbce-2704-4489-bc25-e42b7ed88810",
        "outputId": "61d963bb-6bd5-493c-8bea-e9d04d4699f4"
      },
      "outputs": [
        {
          "output_type": "execute_result",
          "data": {
            "text/plain": [
              "15"
            ]
          },
          "metadata": {},
          "execution_count": 12
        }
      ],
      "source": [
        "# Find the length of string\n",
        "\n",
        "len(\"Michael Jackson\")"
      ],
      "execution_count": null
    },
    {
      "cell_type": "markdown",
      "metadata": {
        "id": "e7e582b4-ae24-4514-b3a0-abe404c46788"
      },
      "source": [
        "### Slicing\n"
      ]
    },
    {
      "cell_type": "markdown",
      "metadata": {
        "id": "ad6d9817-c136-40c5-be6d-c7a4c7e82d50"
      },
      "source": [
        "We can obtain multiple characters from a string using slicing, we can obtain the 0 to 4th and 8th to the 12th element:\n"
      ]
    },
    {
      "cell_type": "markdown",
      "metadata": {
        "id": "16435d60-cbb3-4e05-9725-2bfa81a38dde"
      },
      "source": [
        "<img src=\"https://cf-courses-data.s3.us.cloud-object-storage.appdomain.cloud/IBMDeveloperSkillsNetwork-PY0101EN-SkillsNetwork/labs/Module%201/images/StringsSlice.png\" width=\"600\" align=\"center\">\n"
      ]
    },
    {
      "cell_type": "markdown",
      "metadata": {
        "id": "acb76e97-ed3f-47b9-8fa9-4c5f2fa24e71"
      },
      "source": [
        "<hr/>\n",
        "<div class=\"alert alert-success alertsuccess\" style=\"margin-top: 20px\">\n",
        "[Tip]: When taking the slice, the first number means the index (start at 0), and the second number means the length from the index to the last element you want (start at 1)\n",
        "</div>\n",
        "<hr/>\n"
      ]
    },
    {
      "cell_type": "code",
      "metadata": {
        "colab": {
          "base_uri": "https://localhost:8080/",
          "height": 36
        },
        "id": "284d5794-6324-4036-8f09-279c77d086a2",
        "outputId": "d9082e1c-4adf-4e0d-8bb2-c1c7088f4e74"
      },
      "outputs": [
        {
          "output_type": "execute_result",
          "data": {
            "text/plain": [
              "'Ende'"
            ],
            "application/vnd.google.colaboratory.intrinsic+json": {
              "type": "string"
            }
          },
          "metadata": {},
          "execution_count": 69
        }
      ],
      "source": [
        "# Take the slice on variable name with only index 0 to index 3\n",
        "s[0:4]"
      ],
      "execution_count": null
    },
    {
      "cell_type": "code",
      "metadata": {
        "colab": {
          "base_uri": "https://localhost:8080/",
          "height": 36
        },
        "id": "dd25beb0-7f50-4e0a-afa2-30b9fd9239b5",
        "outputId": "2cb1ac3e-5f4f-4f41-99e4-afdea8dfcb1d"
      },
      "outputs": [
        {
          "output_type": "execute_result",
          "data": {
            "text/plain": [
              "'agon'"
            ],
            "application/vnd.google.colaboratory.intrinsic+json": {
              "type": "string"
            }
          },
          "metadata": {},
          "execution_count": 70
        }
      ],
      "source": [
        "# Take the slice on variable name with only index 8 to index 11\n",
        "\n",
        "s[8:12]"
      ],
      "execution_count": null
    },
    {
      "cell_type": "markdown",
      "metadata": {
        "id": "298a9bfb-3f8d-460c-b2a0-7b6dec23cbbf"
      },
      "source": [
        "### Stride\n"
      ]
    },
    {
      "cell_type": "markdown",
      "metadata": {
        "id": "2531f889-e936-4d2a-93c8-c00314556826"
      },
      "source": [
        "We can also input a stride value as follows, with the '2' indicating that we are selecting every second variable:\n"
      ]
    },
    {
      "cell_type": "markdown",
      "metadata": {
        "id": "c240cf93-839a-4848-95d6-a9a3f77aeec4"
      },
      "source": [
        "<img src=\"https://cf-courses-data.s3.us.cloud-object-storage.appdomain.cloud/IBMDeveloperSkillsNetwork-PY0101EN-SkillsNetwork/labs/Module%201/images/StringsStride.png\" width=\"600\" align=\"center\">\n"
      ]
    },
    {
      "cell_type": "code",
      "metadata": {
        "colab": {
          "base_uri": "https://localhost:8080/",
          "height": 36
        },
        "id": "604b27af-e2e3-4dab-af94-f07838bf22ae",
        "outputId": "1cde027b-17f4-4a32-ec97-72250eef182b"
      },
      "outputs": [
        {
          "output_type": "execute_result",
          "data": {
            "text/plain": [
              "'EdrDao'"
            ],
            "application/vnd.google.colaboratory.intrinsic+json": {
              "type": "string"
            }
          },
          "metadata": {},
          "execution_count": 71
        }
      ],
      "source": [
        "# Get every second element. The elments on index 1, 3, 5 ...\n",
        "\n",
        "s[::2]"
      ],
      "execution_count": null
    },
    {
      "cell_type": "markdown",
      "metadata": {
        "id": "ece9114f-f406-4477-9077-64e0bc66b93e"
      },
      "source": [
        "We can also incorporate slicing  with the stride. In this case, we select the first five elements and then use the stride:\n"
      ]
    },
    {
      "cell_type": "code",
      "metadata": {
        "colab": {
          "base_uri": "https://localhost:8080/",
          "height": 36
        },
        "id": "7ccaa8db-d954-409f-bec0-1e1e4aa9a15e",
        "outputId": "62c3c0ba-548f-4d9a-c120-df584615d6e2"
      },
      "outputs": [
        {
          "output_type": "execute_result",
          "data": {
            "text/plain": [
              "'Edr'"
            ],
            "application/vnd.google.colaboratory.intrinsic+json": {
              "type": "string"
            }
          },
          "metadata": {},
          "execution_count": 72
        }
      ],
      "source": [
        "# Get every second element in the range from index 0 to index 4\n",
        "s[0:5:2]"
      ],
      "execution_count": null
    },
    {
      "cell_type": "markdown",
      "metadata": {
        "id": "3510ce86-1cec-46d5-9e25-1b0e30d91564"
      },
      "source": [
        "### Concatenate Strings\n"
      ]
    },
    {
      "cell_type": "markdown",
      "metadata": {
        "id": "63b8af2d-6851-494f-921d-bda416dbf257"
      },
      "source": [
        "We can concatenate or combine strings by using the addition symbols, and the result is a new string that is a combination of both:\n"
      ]
    },
    {
      "cell_type": "code",
      "metadata": {
        "colab": {
          "base_uri": "https://localhost:8080/",
          "height": 36
        },
        "id": "3ad72ce6-c178-4a55-bbd2-a693fcbc5f86",
        "outputId": "84668212-f95b-4180-c313-905c7729ceae"
      },
      "outputs": [
        {
          "output_type": "execute_result",
          "data": {
            "text/plain": [
              "'ARYA is the best'"
            ],
            "application/vnd.google.colaboratory.intrinsic+json": {
              "type": "string"
            }
          },
          "metadata": {},
          "execution_count": 73
        }
      ],
      "source": [
        "# Concatenate two strings\n",
        "name='ARYA '\n",
        "statement = name + \"is the best\"\n",
        "statement"
      ],
      "execution_count": null
    },
    {
      "cell_type": "markdown",
      "metadata": {
        "id": "55817c2e-eb27-4589-8e2b-0791b4b3be76"
      },
      "source": [
        "To replicate values of a string we simply multiply the string by the number of times we would like to replicate it. In this case, the number is three. The result is a new string, and this new string consists of three copies of the original string:\n"
      ]
    },
    {
      "cell_type": "code",
      "metadata": {
        "colab": {
          "base_uri": "https://localhost:8080/",
          "height": 36
        },
        "id": "390b955d-b446-4f20-876f-47c07ed21e88",
        "outputId": "96ef4395-31b2-416e-9cc3-e9a13351dd7d"
      },
      "outputs": [
        {
          "output_type": "execute_result",
          "data": {
            "text/plain": [
              "'hehehe'"
            ],
            "application/vnd.google.colaboratory.intrinsic+json": {
              "type": "string"
            }
          },
          "metadata": {},
          "execution_count": 74
        }
      ],
      "source": [
        "# Print the string for 3 times\n",
        "\n",
        "3 * \"he\""
      ],
      "execution_count": null
    },
    {
      "cell_type": "markdown",
      "metadata": {
        "id": "864d2b4d-b019-49ac-abf6-9b0053470db4"
      },
      "source": [
        "You can create a new string by setting it to the original variable. Concatenated  with a new string, the result is a new string that changes from Michael Jackson to “Michael Jackson is the best\".\n"
      ]
    },
    {
      "cell_type": "code",
      "metadata": {
        "colab": {
          "base_uri": "https://localhost:8080/",
          "height": 36
        },
        "id": "824c7f26-745d-43a2-bef8-37a617a0d981",
        "outputId": "5ca6754c-46c3-4520-fa35-67dbcd58a122"
      },
      "outputs": [
        {
          "output_type": "execute_result",
          "data": {
            "text/plain": [
              "'aryuh is the best'"
            ],
            "application/vnd.google.colaboratory.intrinsic+json": {
              "type": "string"
            }
          },
          "metadata": {},
          "execution_count": 75
        }
      ],
      "source": [
        "# Concatenate strings\n",
        "\n",
        "name = \"aryuh\"\n",
        "name = name + \" is the best\"\n",
        "name"
      ],
      "execution_count": null
    },
    {
      "cell_type": "markdown",
      "metadata": {
        "id": "3d74dc02-df70-4632-a2ae-1658aaf931a4"
      },
      "source": [
        "<hr>\n"
      ]
    },
    {
      "cell_type": "markdown",
      "metadata": {
        "id": "20d913b0-c1c2-400d-890e-7ca73ba94296"
      },
      "source": [
        "## Escape Sequences\n"
      ]
    },
    {
      "cell_type": "markdown",
      "metadata": {
        "id": "1f1d88ec-6485-4d11-8ce2-de52af169a92"
      },
      "source": [
        "Back slashes represent the beginning  of escape sequences. Escape sequences represent strings that may be difficult to input. For example, back slash \"n\" represents a new line. The output is given by a new line after the back slash \"n\" is encountered:\n"
      ]
    },
    {
      "cell_type": "code",
      "metadata": {
        "colab": {
          "base_uri": "https://localhost:8080/"
        },
        "id": "18a09261-50be-464b-98cb-915f5a300de4",
        "outputId": "075b6fef-ef2c-42b3-f1a1-fb51d451a6a7"
      },
      "outputs": [
        {
          "output_type": "stream",
          "name": "stdout",
          "text": [
            "Arya \n",
            " is the best\n",
            "I think we need some \t space\n"
          ]
        }
      ],
      "source": [
        "# New line escape sequence\n",
        "\n",
        "print(\"Arya \\n is the best\" )\n",
        "print(\"I think we need some \\t space\")"
      ],
      "execution_count": null
    },
    {
      "cell_type": "markdown",
      "metadata": {
        "id": "e10f279b-29e0-4ab9-8414-56ed9f5574a2"
      },
      "source": [
        "Similarly, back slash  \"t\" represents a tab:\n"
      ]
    },
    {
      "cell_type": "code",
      "metadata": {
        "colab": {
          "base_uri": "https://localhost:8080/"
        },
        "id": "b5da60d7-f66e-4353-aad5-e8638fca6c8a",
        "outputId": "abfac0c1-d2dc-4dee-a905-852dfc833ce0"
      },
      "outputs": [
        {
          "output_type": "stream",
          "name": "stdout",
          "text": [
            "👁️ \t 👁️\n",
            "\t👄\n"
          ]
        }
      ],
      "source": [
        "# Tab escape sequence\n",
        "\n",
        "print(\"👁️ \\t 👁️\" )\n",
        "print(\"\\t👄\")"
      ],
      "execution_count": null
    },
    {
      "cell_type": "markdown",
      "metadata": {
        "id": "30db0ab1-135b-44c2-aaa8-8ab7a8576ea5"
      },
      "source": [
        "If you want to place a back slash in your string, use a double back slash:\n"
      ]
    },
    {
      "cell_type": "code",
      "metadata": {
        "colab": {
          "base_uri": "https://localhost:8080/"
        },
        "id": "80567da9-5d12-45fa-b503-20e3e026c1e4",
        "outputId": "fdc05b7d-4301-4d4d-a221-67eb9258fa2d"
      },
      "outputs": [
        {
          "output_type": "stream",
          "name": "stdout",
          "text": [
            "Hello \\ wordl\n"
          ]
        }
      ],
      "source": [
        "# Include back slash in string\n",
        "\n",
        "print(\"Hello \\\\ wordl\" )"
      ],
      "execution_count": null
    },
    {
      "cell_type": "markdown",
      "metadata": {
        "id": "2511721b-ef11-4537-b940-a3eec9aa5bf7"
      },
      "source": [
        "We can also place an \"r\" before the string to display the backslash:\n"
      ]
    },
    {
      "cell_type": "code",
      "metadata": {
        "colab": {
          "base_uri": "https://localhost:8080/"
        },
        "id": "c3de84f8-5c73-4803-b09b-1b5256da80ba",
        "outputId": "83fbdd7b-a6bf-43e2-b1f1-9727a332d950"
      },
      "outputs": [
        {
          "output_type": "stream",
          "name": "stdout",
          "text": [
            "she\\her\n",
            "she\\her\n"
          ]
        }
      ],
      "source": [
        "# r will tell python that string will be display as raw string\n",
        "\n",
        "print(r'she\\her' )\n",
        "print(f'she\\her' )"
      ],
      "execution_count": null
    },
    {
      "cell_type": "markdown",
      "metadata": {
        "id": "ceab1bf9-a2f0-4a50-9849-90216cf9b0ab"
      },
      "source": [
        "<hr>\n"
      ]
    },
    {
      "cell_type": "markdown",
      "metadata": {
        "id": "fd5315e0-98b5-48ea-9f68-f417e5382f57"
      },
      "source": [
        "## String Manipulation Operations\n"
      ]
    },
    {
      "cell_type": "markdown",
      "metadata": {
        "id": "7fa1a11a-869a-4f9f-b3cc-fca0916e91b6"
      },
      "source": [
        "There are many string operation methods in Python that can be used to manipulate the data. We are going to use some basic string operations on the data.\n"
      ]
    },
    {
      "cell_type": "markdown",
      "metadata": {
        "id": "50158b36-2616-4034-979f-ae977bd88e5d"
      },
      "source": [
        "Let's try with the method <code>upper</code>; this method converts lower case characters to upper case characters:\n"
      ]
    },
    {
      "cell_type": "code",
      "metadata": {
        "colab": {
          "base_uri": "https://localhost:8080/"
        },
        "id": "645a01b5-40f0-4039-bd09-a8eeba90f223",
        "outputId": "6d543734-324d-4a97-ce5a-8a8de0aeaa9b"
      },
      "outputs": [
        {
          "output_type": "stream",
          "name": "stdout",
          "text": [
            "before upper: i am speaking very calmly\n",
            "After upper: I AM SPEAKING VERY CALMLY\n"
          ]
        }
      ],
      "source": [
        "# Convert all the characters in string to upper case\n",
        "\n",
        "a = \"i am speaking very calmly\"\n",
        "print(\"before upper:\", a)\n",
        "b = a.upper()\n",
        "print(\"After upper:\", b)"
      ],
      "execution_count": null
    },
    {
      "cell_type": "markdown",
      "metadata": {
        "id": "416e46b7-3f02-4fc8-879d-67e9f29ec17e"
      },
      "source": [
        "The method <code>replace</code> replaces a segment of the string, i.e. a substring  with a new string. We input the part of the string we would like to change. The second argument is what we would like to exchange the segment with, and the result is a new string with the segment changed:\n"
      ]
    },
    {
      "cell_type": "code",
      "metadata": {
        "colab": {
          "base_uri": "https://localhost:8080/",
          "height": 36
        },
        "id": "ccb42478-a72e-4568-bfd0-699b8f8887a5",
        "outputId": "0edc0f45-a491-42c2-e425-61c8ff9b2efb"
      },
      "outputs": [
        {
          "output_type": "execute_result",
          "data": {
            "text/plain": [
              "'Arya Jackson is the best'"
            ],
            "application/vnd.google.colaboratory.intrinsic+json": {
              "type": "string"
            }
          },
          "metadata": {},
          "execution_count": 87
        }
      ],
      "source": [
        "# Replace the old substring with the new target substring is the segment has been found in the string\n",
        "\n",
        "a = \"Michael Jackson is the best\"\n",
        "b = a.replace('Michael', 'Arya')\n",
        "b"
      ],
      "execution_count": null
    },
    {
      "cell_type": "markdown",
      "metadata": {
        "id": "2190c7e2-b157-4a08-ab3d-e51b3677a6b4"
      },
      "source": [
        "The method <code>find</code> finds a sub-string. The argument is the substring you would like to find, and the output is the first index of the sequence. We can find the sub-string <code>jack</code> or <code>el<code>.\n"
      ]
    },
    {
      "cell_type": "markdown",
      "metadata": {
        "id": "b41962c2-f4f1-4ac1-92b8-1f1d2d605284"
      },
      "source": [
        "<img src=\"https://cf-courses-data.s3.us.cloud-object-storage.appdomain.cloud/IBMDeveloperSkillsNetwork-PY0101EN-SkillsNetwork/labs/Module%201/images/StringsFind.png\" width=\"600\" align=\"center\">\n"
      ]
    },
    {
      "cell_type": "code",
      "metadata": {
        "colab": {
          "base_uri": "https://localhost:8080/"
        },
        "id": "e770818a-b3f8-489d-8987-041865780394",
        "outputId": "9cab1a29-92bc-4c00-a8a8-ef0cd2ff9872"
      },
      "outputs": [
        {
          "output_type": "execute_result",
          "data": {
            "text/plain": [
              "6"
            ]
          },
          "metadata": {},
          "execution_count": 88
        }
      ],
      "source": [
        "# Find the substring in the string. Only the index of the first elment of substring in string will be the output\n",
        "\n",
        "name = \"Arya Telang\"\n",
        "name.find('el')"
      ],
      "execution_count": null
    },
    {
      "cell_type": "code",
      "metadata": {
        "colab": {
          "base_uri": "https://localhost:8080/"
        },
        "id": "85160b4d-d1a0-41bd-9d07-f9b56ab49002",
        "outputId": "9ad7aad6-deb6-4466-cef1-a91c796f403b"
      },
      "outputs": [
        {
          "output_type": "execute_result",
          "data": {
            "text/plain": [
              "0"
            ]
          },
          "metadata": {},
          "execution_count": 89
        }
      ],
      "source": [
        "# Find the substring in the string.\n",
        "\n",
        "name.find('Arya')"
      ],
      "execution_count": null
    },
    {
      "cell_type": "markdown",
      "metadata": {
        "id": "c650d440-af98-453a-a42b-efeb3dc0c06a"
      },
      "source": [
        "If the  sub-string is not in the string then the output is a negative one. For example, the string 'Jasdfasdasdf' is not a substring:\n"
      ]
    },
    {
      "cell_type": "code",
      "metadata": {
        "colab": {
          "base_uri": "https://localhost:8080/"
        },
        "id": "eece73cd-e4cf-4f9a-8069-035f02643bf9",
        "outputId": "71b977ff-4b0a-4119-f010-d03129100af7"
      },
      "outputs": [
        {
          "output_type": "execute_result",
          "data": {
            "text/plain": [
              "-1"
            ]
          },
          "metadata": {},
          "execution_count": 90
        }
      ],
      "source": [
        "# If cannot find the substring in the string\n",
        "\n",
        "name.find('Jasdfasdasdf')"
      ],
      "execution_count": null
    },
    {
      "cell_type": "markdown",
      "metadata": {
        "id": "62d66d32-1f20-4f5d-beb6-e19a2d8505d5"
      },
      "source": [
        "The method <code>Split</code> splits the string at the specified separator, and returns a list:\n"
      ]
    },
    {
      "cell_type": "code",
      "metadata": {
        "colab": {
          "base_uri": "https://localhost:8080/"
        },
        "id": "8d1f9a4e-a6b5-47ad-a9d7-67be9746c5fe",
        "outputId": "ff869896-bff9-4d80-82af-999a3880a685"
      },
      "outputs": [
        {
          "output_type": "execute_result",
          "data": {
            "text/plain": [
              "['this', 'is', 'a', 'space', 'separated', 'string']"
            ]
          },
          "metadata": {},
          "execution_count": 91
        }
      ],
      "source": [
        "#Split the substring into list\n",
        "name = \"this is a space separated string\"\n",
        "split_string = (name.split())\n",
        "split_string"
      ],
      "execution_count": null
    },
    {
      "cell_type": "markdown",
      "metadata": {
        "id": "78e8e3a0-f00c-4b5a-a959-6fcb1af88491"
      },
      "source": [
        "<hr>\n"
      ]
    },
    {
      "cell_type": "markdown",
      "metadata": {
        "id": "e9b0e1ab-6d21-4293-9db9-1b70a3b49387"
      },
      "source": [
        "## RegEx\n"
      ]
    },
    {
      "cell_type": "markdown",
      "metadata": {
        "id": "c7c84ab6-ff44-47e5-bcdf-b8e0b1c45865"
      },
      "source": [
        "In Python, RegEx (short for Regular Expression) is a tool for matching and handling strings.\n"
      ]
    },
    {
      "cell_type": "markdown",
      "metadata": {
        "id": "f7076de6-b29f-4aaf-8cd9-08c87e7b3436"
      },
      "source": [
        "This RegEx module provides several functions for working with regular expressions, including <code>search, split, findall,</code> and <code>sub</code>.\n"
      ]
    },
    {
      "cell_type": "markdown",
      "metadata": {
        "id": "9fb15d79-04ed-45e3-9380-4120515eef1c"
      },
      "source": [
        "Python provides a built-in module called <code>re</code>, which allows you to work with regular expressions.\n",
        "First, import the <code>re</code> module\n"
      ]
    },
    {
      "cell_type": "code",
      "metadata": {
        "id": "5c37e096-108c-44ed-8f0f-ceedbc8c07be"
      },
      "outputs": [],
      "source": [
        "import re"
      ],
      "execution_count": null
    },
    {
      "cell_type": "markdown",
      "metadata": {
        "id": "163f1ebe-51df-4fe4-b583-bf0c57d5cb64"
      },
      "source": [
        "The search() function searches for specified patterns within a string. Here is an example that explains how to use the search() function to search for the word \"Jackson\" in the string \"Michael Jackson is the best\".\n"
      ]
    },
    {
      "cell_type": "code",
      "metadata": {
        "colab": {
          "base_uri": "https://localhost:8080/"
        },
        "id": "25f903ec-1ea5-4bf5-bda9-6fd8e3be8adb",
        "outputId": "340793ea-221e-4ff7-df84-bb4c81fe6ba8"
      },
      "outputs": [
        {
          "output_type": "stream",
          "name": "stdout",
          "text": [
            "Match found! <re.Match object; span=(44, 47), match='God'>\n"
          ]
        }
      ],
      "source": [
        "#this is only lyrics i dont have porsche yet. Nor am i god\n",
        "s1 = \"Get the Porsche out the damn garage, I am a God, Even though I'm a man of God, My whole life in the hand of God, So y'all better quit playing with God\"\n",
        "\n",
        "pattern = r\"God\"\n",
        "\n",
        "result = re.search(pattern, s1)\n",
        "\n",
        "if result:\n",
        "    print(\"Match found!\",result)\n",
        "else:\n",
        "    print(\"Match not found.\")\n"
      ],
      "execution_count": null
    },
    {
      "cell_type": "markdown",
      "metadata": {
        "id": "0e7ed892-79a4-4104-9f98-e135d4040a8e"
      },
      "source": [
        "Regular expressions (RegEx) are patterns used to match and manipulate strings of text. There are several special sequences in RegEx that can be used to match specific characters or patterns.\n",
        "\n",
        "| Special Sequence | Meaning                 | \tExample             |\n",
        "| -----------  | ----------------------- | ----------------------|\n",
        "| \\d|Matches any digit character (0-9)|\"123\" matches \"\\d\\d\\d\"|\n",
        "|\\D|Matches any non-digit character|\"hello\" matches \"\\D\\D\\D\\D\\D\"|\n",
        "|\\w|Matches any word character (a-z, A-Z, 0-9, and _)|\"hello_world\" matches \"\\w\\w\\w\\w\\w\\w\\w\\w\\w\\w\\w\"|\n",
        "|\\W|Matches any non-word character|\t\"@#$%\" matches \"\\W\\W\\W\\W\"|\n",
        "|\\s|Matches any whitespace character (space, tab, newline, etc.)|\"hello world\" matches \"\\w\\w\\w\\w\\w\\s\\w\\w\\w\\w\\w\"|\n",
        "|\\S|Matches any non-whitespace character|\"hello_world\" matches \"\\S\\S\\S\\S\\S\\S\\S\\S\\S\"|\n",
        "|\\b|Matches the boundary between a word character and a non-word character|\"cat\" matches \"\\bcat\\b\" in \"The cat sat on the mat\"|\n",
        "|\\B|Matches any position that is not a word boundary|\"cat\" matches \"\\Bcat\\B\" in \"category\" but not in \"The cat sat on the mat\"|\n"
      ]
    },
    {
      "cell_type": "markdown",
      "metadata": {
        "id": "8bbabb80-53db-40c2-9ea8-fdcc53656716"
      },
      "source": [
        "Special Sequence Examples:\n",
        "\n",
        "A simple example of using the <code>\\d</code> special sequence in a regular expression pattern with Python code:\n"
      ]
    },
    {
      "cell_type": "code",
      "metadata": {
        "colab": {
          "base_uri": "https://localhost:8080/"
        },
        "id": "576f73e0-ef73-48d9-ba06-77ada191bcf9",
        "outputId": "de8a18f5-53df-499e-b3a7-47a63849c7f4"
      },
      "outputs": [
        {
          "output_type": "stream",
          "name": "stdout",
          "text": [
            "Phone number found: 1234567890\n"
          ]
        }
      ],
      "source": [
        "pattern = r\"\\d\\d\\d\\d\\d\\d\\d\\d\\d\\d\"  # Matches any ten consecutive digits\n",
        "text = \"My Phone number is 1234567890\"\n",
        "match = re.search(pattern, text)\n",
        "\n",
        "if match:\n",
        "    print(\"Phone number found:\", match.group())\n",
        "else:\n",
        "    print(\"No match\")"
      ],
      "execution_count": null
    },
    {
      "cell_type": "markdown",
      "metadata": {
        "id": "4a89d5f9-ac70-41dc-be72-910de25144ae"
      },
      "source": [
        "The regular expression pattern is defined as r\"\\d\\d\\d\\d\\d\\d\\d\\d\\d\\d\", which uses the \\d special sequence to match any digit character (0-9), and the \\d sequence is repeated ten times to match ten consecutive digits\n"
      ]
    },
    {
      "cell_type": "markdown",
      "metadata": {
        "id": "a24495d1-59b6-4f70-a14f-b5451627c43a"
      },
      "source": [
        "A simple example of using the <code>\\W</code> special sequence in a regular expression pattern with Python code:\n"
      ]
    },
    {
      "cell_type": "code",
      "metadata": {
        "colab": {
          "base_uri": "https://localhost:8080/"
        },
        "id": "f71a2c0e-42ca-46f4-b111-100e951bdfac",
        "outputId": "77495195-62c9-4305-ad0d-4e6d0cdb16c0"
      },
      "outputs": [
        {
          "output_type": "stream",
          "name": "stdout",
          "text": [
            "Matches: [',', ' ', '!']\n"
          ]
        }
      ],
      "source": [
        "pattern = r\"\\W\"  # Matches any non-word character\n",
        "text = \"Hello, world!\"\n",
        "matches = re.findall(pattern, text)\n",
        "\n",
        "print(\"Matches:\", matches)"
      ],
      "execution_count": null
    },
    {
      "cell_type": "markdown",
      "metadata": {
        "id": "20f10a4a-daed-4cdd-96f4-b9453217ab9f"
      },
      "source": [
        "The regular expression pattern is defined as r\"\\W\", which uses the \\W special sequence to match any character that is not a word character (a-z, A-Z, 0-9, or _). The string we're searching for matches in is \"Hello, world!\".\n"
      ]
    },
    {
      "cell_type": "markdown",
      "metadata": {
        "id": "dcbd9b39-1e01-4c35-a334-edcb25c14cda"
      },
      "source": [
        "The <code>findall()</code> function finds all occurrences of a specified pattern within a string.\n"
      ]
    },
    {
      "cell_type": "code",
      "metadata": {
        "colab": {
          "base_uri": "https://localhost:8080/"
        },
        "id": "5d34f6e8-8048-4b06-adcd-b211ed9efaa9",
        "outputId": "0bbc9c77-30e2-45b8-895a-a87e739ff599"
      },
      "outputs": [
        {
          "output_type": "stream",
          "name": "stdout",
          "text": [
            "['as', 'as']\n"
          ]
        }
      ],
      "source": [
        "s2 = \"Michael Jackson was a singer and known as the 'King of Pop'\"\n",
        "\n",
        "\n",
        "# Use the findall() function to find all occurrences of the \"as\" in the string\n",
        "result = re.findall(\"as\", s2)\n",
        "\n",
        "# Print out the list of matched words\n",
        "print(result)\n"
      ],
      "execution_count": null
    },
    {
      "cell_type": "markdown",
      "metadata": {
        "id": "562e3d8a-e7c1-4d66-b0e6-55a95016a420"
      },
      "source": [
        "A regular expression's <code>split()</code> function splits a string into an array of substrings based on a specified pattern.\n"
      ]
    },
    {
      "cell_type": "code",
      "metadata": {
        "colab": {
          "base_uri": "https://localhost:8080/"
        },
        "id": "c00ca893-0f94-4df4-96ef-625388fd42cf",
        "outputId": "f2d5344a-e871-42fc-8146-bfd07ab56a07"
      },
      "outputs": [
        {
          "output_type": "stream",
          "name": "stdout",
          "text": [
            "['Hey', 'guys', 'this', 'is', 'my', 'millionth', 'python', 'notebook', 'for', 'revision']\n"
          ]
        }
      ],
      "source": [
        "# Use the split function to split the string by the \"\\s\"\n",
        "s2='Hey guys this is my millionth python notebook for revision'\n",
        "split_array = re.split(\"\\s\", s2)\n",
        "\n",
        "# The split_array contains all the substrings, split by whitespace characters\n",
        "print(split_array)"
      ],
      "execution_count": null
    },
    {
      "cell_type": "markdown",
      "metadata": {
        "id": "ef04e9fc-8e4e-4824-a5f2-63e7ac2dc86f"
      },
      "source": [
        "The <code>sub</code> function of a regular expression in Python is used to replace all occurrences of a pattern in a string with a specified replacement.\n"
      ]
    },
    {
      "cell_type": "code",
      "metadata": {
        "colab": {
          "base_uri": "https://localhost:8080/"
        },
        "id": "83adcde6-bac1-4b97-8c69-932e08bdffe9",
        "outputId": "965ce4b3-2944-4291-ea96-fe5db077c40a"
      },
      "outputs": [
        {
          "output_type": "stream",
          "name": "stdout",
          "text": [
            "Hey noobs this is my millionth python notebook for revision\n"
          ]
        }
      ],
      "source": [
        "# Define the regular expression pattern to search for\n",
        "pattern = r\"guys\"\n",
        "\n",
        "# Define the replacement string\n",
        "replacement = \"noobs\"\n",
        "\n",
        "# Use the sub function to replace the pattern with the replacement string\n",
        "new_string = re.sub(pattern, replacement, s2, flags=re.IGNORECASE)\n",
        "\n",
        "# The new_string contains the original string with the pattern replaced by the replacement string\n",
        "print(new_string)"
      ],
      "execution_count": null
    },
    {
      "cell_type": "code",
      "source": [
        "data=' my credit card number is 3458 2038 83920'\n",
        "pattern='\\d\\d\\d\\d\\s\\d\\d\\d\\d\\s\\d\\d\\d\\d\\d'\n",
        "replace='**** **** ***20'\n",
        "new=re.sub(pattern,replace,data)\n",
        "new"
      ],
      "metadata": {
        "colab": {
          "base_uri": "https://localhost:8080/",
          "height": 36
        },
        "id": "LmXJ7czlWZv5",
        "outputId": "d28f2359-b293-41f2-eed8-ef93483ea17b"
      },
      "execution_count": null,
      "outputs": [
        {
          "output_type": "execute_result",
          "data": {
            "text/plain": [
              "' my credit card number is **** **** ***20'"
            ],
            "application/vnd.google.colaboratory.intrinsic+json": {
              "type": "string"
            }
          },
          "metadata": {},
          "execution_count": 101
        }
      ]
    },
    {
      "cell_type": "markdown",
      "metadata": {
        "id": "ce1a6f2a-a6e8-4c51-b1e7-6249def3d834"
      },
      "source": [
        "<hr>\n"
      ]
    },
    {
      "cell_type": "markdown",
      "metadata": {
        "id": "ba185cf2-d0c9-42d4-ae13-be934ed2c5d9"
      },
      "source": [
        "<h2 id=\"quiz\">Quiz on Strings</h2>\n"
      ]
    },
    {
      "cell_type": "markdown",
      "metadata": {
        "id": "b9253be9-c819-47e1-96b5-9d03c38b5202"
      },
      "source": [
        "What is the value of the variable <code>a</code> after the following code is executed?\n"
      ]
    },
    {
      "cell_type": "code",
      "metadata": {
        "colab": {
          "base_uri": "https://localhost:8080/",
          "height": 36
        },
        "id": "cb098414-67c0-422f-b6eb-2b13c1dcb26d",
        "outputId": "b8943081-0e63-426f-baff-c7c144d0c02e"
      },
      "outputs": [
        {
          "output_type": "execute_result",
          "data": {
            "text/plain": [
              "'1'"
            ],
            "application/vnd.google.colaboratory.intrinsic+json": {
              "type": "string"
            }
          },
          "metadata": {},
          "execution_count": 103
        }
      ],
      "source": [
        "# Write your code below and press Shift+Enter to execute\n",
        "\n",
        "a = \"1\"\n",
        "a"
      ],
      "execution_count": null
    },
    {
      "cell_type": "markdown",
      "metadata": {
        "id": "4126da0f-0d50-47ec-ab55-cf7038eb2c21"
      },
      "source": [
        "<details><summary>Click here for the solution</summary>\n",
        "\n",
        "```python\n",
        "\"1\"\n",
        "\n",
        "```\n",
        "\n",
        "</details>\n"
      ]
    },
    {
      "cell_type": "markdown",
      "metadata": {
        "id": "d4a251ea-b8e8-43f5-af3c-a2dde87f9017"
      },
      "source": [
        "What is the value of the variable <code>b</code> after the following code is executed?\n"
      ]
    },
    {
      "cell_type": "code",
      "metadata": {
        "id": "3169c04d-602d-4420-91d6-5b673e61d4ae"
      },
      "outputs": [],
      "source": [
        "# Write your code below and press Shift+Enter to execute\n",
        "\n",
        "b = \"2\""
      ],
      "execution_count": null
    },
    {
      "cell_type": "markdown",
      "metadata": {
        "id": "7671962d-9165-42d5-b7fd-d1f4ee46a666"
      },
      "source": [
        "<details><summary>Click here for the solution</summary>\n",
        "\n",
        "```python\n",
        "\"2\"\n",
        "\n",
        "```\n",
        "\n",
        "</details>\n"
      ]
    },
    {
      "cell_type": "markdown",
      "metadata": {
        "id": "871f7f08-3814-4f2c-969a-8112967085a8"
      },
      "source": [
        "What is the value of the variable <code>c</code> after the following code is executed?\n"
      ]
    },
    {
      "cell_type": "code",
      "metadata": {
        "id": "4569bd9d-7125-4041-877d-3710d69366ff"
      },
      "outputs": [],
      "source": [
        "# Write your code below and press Shift+Enter to execute\n",
        "\n",
        "c = a + b"
      ],
      "execution_count": null
    },
    {
      "cell_type": "markdown",
      "metadata": {
        "id": "61ad686a-7753-4d94-96f0-9b580033e45f"
      },
      "source": [
        "<details><summary>Click here for the solution</summary>\n",
        "\n",
        "```python\n",
        "\"12\"\n",
        "\n",
        "```\n",
        "\n",
        "</details>\n"
      ]
    },
    {
      "cell_type": "markdown",
      "metadata": {
        "id": "bf52954c-20cf-408c-a6e2-d167d7f37921"
      },
      "source": [
        "<hr>\n"
      ]
    },
    {
      "cell_type": "markdown",
      "metadata": {
        "id": "c2f465cf-0fdd-4a81-adf4-e701f4dad40c"
      },
      "source": [
        "Consider the variable <code>d</code> use slicing to print out the first three elements:\n"
      ]
    },
    {
      "cell_type": "code",
      "metadata": {
        "id": "78f4d842-ef00-4c9d-837a-5d7f1316c9ec"
      },
      "outputs": [],
      "source": [
        "# Write your code below and press Shift+Enter to execute\n",
        "\n",
        "d = \"ABCDEFG\""
      ],
      "execution_count": null
    },
    {
      "cell_type": "markdown",
      "metadata": {
        "id": "d71ea99c-5bb8-4cbb-9f39-5f760fbb74aa"
      },
      "source": [
        "<details><summary>Click here for the solution</summary>\n",
        "\n",
        "```python\n",
        "print(d[:3])\n",
        "\n",
        "# or\n",
        "\n",
        "print(d[0:3])\n",
        "\n",
        "```\n",
        "\n",
        "</details>\n"
      ]
    },
    {
      "cell_type": "markdown",
      "metadata": {
        "id": "db3eb554-8839-4eb0-bacd-81d9e0bfc040"
      },
      "source": [
        "<hr>\n"
      ]
    },
    {
      "cell_type": "markdown",
      "metadata": {
        "id": "ddb88c5a-5d29-479d-b912-77d14f91281b"
      },
      "source": [
        "Use a stride value of 2 to print out every second character of the string <code>e</code>:\n"
      ]
    },
    {
      "cell_type": "code",
      "metadata": {
        "id": "7515bcae-bf7a-48c3-8f2a-7a2861927bfd"
      },
      "outputs": [],
      "source": [
        "# Write your code below and press Shift+Enter to execute\n",
        "\n",
        "e = 'clocrkr1e1c1t'"
      ],
      "execution_count": null
    },
    {
      "cell_type": "markdown",
      "metadata": {
        "id": "1a567527-4beb-4d41-9a6c-fe1a4b830383"
      },
      "source": [
        "<details><summary>Click here for the solution</summary>\n",
        "\n",
        "```python\n",
        "print(e[::2])\n",
        "\n",
        "```\n",
        "\n",
        "</details>\n"
      ]
    },
    {
      "cell_type": "markdown",
      "metadata": {
        "id": "2d6af817-0d61-439a-82d6-05e6c1240725"
      },
      "source": [
        "<hr>\n"
      ]
    },
    {
      "cell_type": "markdown",
      "metadata": {
        "id": "a2d96f6c-7eae-4cbc-a916-762168d859f2"
      },
      "source": [
        "Print out a backslash:\n"
      ]
    },
    {
      "cell_type": "code",
      "metadata": {
        "id": "29bc27bb-9f3d-4cbc-a832-db6dcd38c74e"
      },
      "outputs": [],
      "source": [
        "# Write your code below and press Shift+Enter to execute\n"
      ],
      "execution_count": null
    },
    {
      "cell_type": "markdown",
      "metadata": {
        "id": "43660e04-f344-49f3-9e8c-a09cc6b4664f"
      },
      "source": [
        "<details><summary>Click here for the solution</summary>\n",
        "\n",
        "```python\n",
        "print(\"\\\\\\\\\\\\\")\n",
        "\n",
        "or\n",
        "\n",
        "print(r\"\\ \")\n",
        "\n",
        "```\n",
        "\n",
        "</details>\n"
      ]
    },
    {
      "cell_type": "markdown",
      "metadata": {
        "id": "53cf66f1-3426-4c90-b9ba-0bedbce8f923"
      },
      "source": [
        "<hr>\n"
      ]
    },
    {
      "cell_type": "markdown",
      "metadata": {
        "id": "d664b335-9d8b-443a-b265-35c90b2cee52"
      },
      "source": [
        "Convert the variable <code>f</code> to uppercase:\n"
      ]
    },
    {
      "cell_type": "code",
      "metadata": {
        "id": "546f8c0a-8d7d-4c0b-ae9f-3c9d943cf558"
      },
      "outputs": [],
      "source": [
        "# Write your code below and press Shift+Enter to execute\n",
        "\n",
        "f = \"You are wrong\""
      ],
      "execution_count": null
    },
    {
      "cell_type": "markdown",
      "metadata": {
        "id": "561b7eef-ba09-4bc7-a532-bfe85e78241c"
      },
      "source": [
        "<details><summary>Click here for the solution</summary>\n",
        "\n",
        "```python\n",
        "f.upper()\n",
        "\n",
        "```\n",
        "\n",
        "</details>\n"
      ]
    },
    {
      "cell_type": "markdown",
      "metadata": {
        "id": "8a7e2b88-13ca-4004-85b2-e2338bdf7734"
      },
      "source": [
        "Convert the variable <code>f2</code> to lowercase:\n"
      ]
    },
    {
      "cell_type": "code",
      "metadata": {
        "id": "c1ffe9dd-aa73-4f97-b8a0-e2e418e7972a"
      },
      "outputs": [],
      "source": [
        "# Write your code below and press Shift+Enter to execute\n",
        "f2=\"YOU ARE RIGHT\""
      ],
      "execution_count": null
    },
    {
      "cell_type": "markdown",
      "metadata": {
        "id": "237e2de2-b2d6-43f6-8442-ca4aaafbcccc"
      },
      "source": [
        "<details><summary>Click here for the solution</summary>\n",
        "\n",
        "```python\n",
        "f2.lower()\n",
        "\n",
        "```\n",
        "\n",
        "</details>\n"
      ]
    },
    {
      "cell_type": "markdown",
      "metadata": {
        "id": "2f71ca14-43ad-4298-b64d-84d5f9a471c1"
      },
      "source": [
        "<hr>\n"
      ]
    },
    {
      "cell_type": "markdown",
      "metadata": {
        "id": "a9ba1aa6-75b7-4ce6-b7c0-dcad28816512"
      },
      "source": [
        "Consider the variable <code>g</code>, and find the first index of the sub-string <code>snow</code>:\n"
      ]
    },
    {
      "cell_type": "code",
      "metadata": {
        "id": "88d2eaf8-cad5-420b-9384-ae9ad4041fbf"
      },
      "outputs": [],
      "source": [
        "# Write your code below and press Shift+Enter to execute\n",
        "\n",
        "g = \"Mary had a little lamb Little lamb, little lamb Mary had a little lamb \\\n",
        "Its fleece was white as snow And everywhere that Mary went Mary went, Mary went \\\n",
        "Everywhere that Mary went The lamb was sure to go\""
      ],
      "execution_count": null
    },
    {
      "cell_type": "markdown",
      "metadata": {
        "id": "ac236426-f7b9-4bee-91c9-9c9f80b00a3d"
      },
      "source": [
        "<details><summary>Click here for the solution</summary>\n",
        "\n",
        "```python\n",
        "g.find(\"snow\")\n",
        "\n",
        "```\n",
        "\n",
        "</details>\n"
      ]
    },
    {
      "cell_type": "markdown",
      "metadata": {
        "id": "06df4f1b-5d1e-4eae-b8f2-56537c425c0b"
      },
      "source": [
        "In the variable <code>g</code>, replace the sub-string <code>Mary</code> with <code>Bob</code>:\n"
      ]
    },
    {
      "cell_type": "code",
      "metadata": {
        "id": "bc5a9543-f9ef-4d2e-9996-c0f3528c172e"
      },
      "outputs": [],
      "source": [
        "# Write your code below and press Shift+Enter to execute\n"
      ],
      "execution_count": null
    },
    {
      "cell_type": "markdown",
      "metadata": {
        "id": "d8d606b5-a457-4279-973f-aa5385d84151"
      },
      "source": [
        "<details><summary>Click here for the solution</summary>\n",
        "\n",
        "```python\n",
        "g.replace(\"Mary\", \"Bob\")\n",
        "\n",
        "```\n",
        "\n",
        "</details>\n"
      ]
    },
    {
      "cell_type": "markdown",
      "metadata": {
        "id": "112056f8-4436-4b03-aecb-9e5712b74c41"
      },
      "source": [
        "In the variable <code>g</code>, replace the sub-string <code>,</code> with <code>.</code>:\n"
      ]
    },
    {
      "cell_type": "code",
      "metadata": {
        "id": "c0826f31-9c09-4bb2-83ac-0fc85d4fc88d"
      },
      "outputs": [],
      "source": [
        "# Write your code below and press Shift+Enter to execute"
      ],
      "execution_count": null
    },
    {
      "cell_type": "markdown",
      "metadata": {
        "id": "c795febc-a8d1-48cd-816a-1a3bd4c9e5b3"
      },
      "source": [
        "<details><summary>Click here for the solution</summary>\n",
        "\n",
        "```python\n",
        "g.replace(',','.')\n",
        "\n",
        "```\n",
        "\n",
        "</details>\n"
      ]
    },
    {
      "cell_type": "markdown",
      "metadata": {
        "id": "7631db69-077a-49bf-b7a5-688fe684ad1f"
      },
      "source": [
        "In the variable <code>g</code>, split the substring to list:\n"
      ]
    },
    {
      "cell_type": "code",
      "metadata": {
        "id": "966c9b5a-a29c-4b77-a635-b02b2611595d"
      },
      "outputs": [],
      "source": [
        "# Write your code below and press Shift+Enter to execute"
      ],
      "execution_count": null
    },
    {
      "cell_type": "markdown",
      "metadata": {
        "id": "0198bf27-06c1-463c-a6b3-99f65f4d58e4"
      },
      "source": [
        "<details><summary>Click here for the solution</summary>\n",
        "\n",
        "```python\n",
        "g.split()\n",
        "\n",
        "```\n",
        "\n",
        "</details>\n"
      ]
    },
    {
      "cell_type": "markdown",
      "metadata": {
        "id": "1627ef24-8b86-4a60-92e8-57ca782f0fa5"
      },
      "source": [
        "In the string <code>s3</code>, find whether the digit is present or not using the <code>\\d</code> and <code>search() </code>function:\n"
      ]
    },
    {
      "cell_type": "code",
      "metadata": {
        "id": "56a873cc-bfac-45e2-a3f4-efaaf078221a"
      },
      "outputs": [],
      "source": [
        "s3 = \"House number- 1105\"\n",
        "# Write your code below and press Shift+Enter to execute\n",
        "match=re.search('\\d',s3)"
      ],
      "execution_count": null
    },
    {
      "cell_type": "markdown",
      "metadata": {
        "id": "6145f240-9fb5-452a-a7ad-aa13e4ad0edf"
      },
      "source": [
        "<details><summary>Click here for the solution</summary>\n",
        "\n",
        "```python\n",
        "# Use the search() function to search for the \"\\d\" in the string\n",
        "result = re.search(\"\\d\", s3)\n",
        "\n",
        "# Check if a match was found\n",
        "if result:\n",
        "    print(\"Digit found\")\n",
        "else:\n",
        "    print(\"Digit not found.\")\n",
        "```\n",
        "\n",
        "</details>\n"
      ]
    },
    {
      "cell_type": "markdown",
      "metadata": {
        "id": "75cea69f-85c5-4a5b-be62-82abd7d59458"
      },
      "source": [
        "In the string <code>str1</code>, replace the sub-string <code>fox</code> with <code>bear</code> using <code>sub() </code>function:\n"
      ]
    },
    {
      "cell_type": "code",
      "metadata": {
        "colab": {
          "base_uri": "https://localhost:8080/",
          "height": 36
        },
        "id": "e28808ed-232e-417a-b0be-c578d802c24a",
        "outputId": "f04a69e4-3703-4787-89e4-bc8aa0113be7"
      },
      "outputs": [
        {
          "output_type": "execute_result",
          "data": {
            "text/plain": [
              "'The quick brown bear jumps over the lazy dog.'"
            ],
            "application/vnd.google.colaboratory.intrinsic+json": {
              "type": "string"
            }
          },
          "metadata": {},
          "execution_count": 107
        }
      ],
      "source": [
        "str1= \"The quick brown fox jumps over the lazy dog.\"\n",
        "\n",
        "# Write your code below and press Shift+Enter to execute\n",
        "str11=re.sub('fox','bear',str1)\n",
        "str11"
      ],
      "execution_count": null
    },
    {
      "cell_type": "markdown",
      "metadata": {
        "id": "748c30b0-9e8e-4cd9-ad93-5db61a235d6d"
      },
      "source": [
        "<details><summary>Click here for the solution</summary>\n",
        "\n",
        "```python\n",
        "# Use re.sub() to replace \"fox\" with \"bear\"\n",
        "new_str1 = re.sub(r\"fox\", \"bear\", str1)\n",
        "\n",
        "print(new_str1)\n",
        "```\n",
        "\n",
        "</details>\n"
      ]
    },
    {
      "cell_type": "markdown",
      "metadata": {
        "id": "8827f050-9b8e-4991-87d6-6befcd072aad"
      },
      "source": [
        "In the string <code>str2</code> find all the occurrences of <code>woo</code> using <code>findall()</code> function:\n"
      ]
    },
    {
      "cell_type": "code",
      "metadata": {
        "colab": {
          "base_uri": "https://localhost:8080/"
        },
        "id": "f4c976cc-f303-44b4-95ef-57eb08920254",
        "outputId": "b0a091fb-9ca1-442f-cb77-b076a2cdea18"
      },
      "outputs": [
        {
          "output_type": "execute_result",
          "data": {
            "text/plain": [
              "['woo', 'woo', 'woo', 'woo']"
            ]
          },
          "metadata": {},
          "execution_count": 106
        }
      ],
      "source": [
        "str2= \"How much wood would a woodchuck chuck, if a woodchuck could chuck wood?\"\n",
        "\n",
        "# Write your code below and press Shift+Enter to execute\n",
        "num=re.findall(r'woo',str2)\n",
        "num"
      ],
      "execution_count": null
    },
    {
      "cell_type": "markdown",
      "metadata": {
        "id": "b2b06008-27d6-4fae-8e56-d3a9d8e8bc3e"
      },
      "source": [
        "<details><summary>Click here for the solution</summary>\n",
        "\n",
        "```python\n",
        "# Use re.findall() to find all occurrences of \"woo\"\n",
        "matches = re.findall(r\"woo\", str2)\n",
        "\n",
        "print(matches)\n",
        "```\n",
        "\n",
        "</details>\n"
      ]
    },
    {
      "cell_type": "markdown",
      "metadata": {
        "id": "6bfe278b-3b7e-40e3-8c51-7257b96adad8"
      },
      "source": [
        "<hr>\n",
        "<h2>The last exercise!</h2>\n",
        "<p>Congratulations, you have completed your first lesson and hands-on lab in Python.\n",
        "<hr>\n"
      ]
    }
  ],
  "metadata": {
    "language_info": {
      "codemirror_mode": {
        "name": "python",
        "version": 3
      },
      "file_extension": ".py",
      "mimetype": "text/x-python",
      "name": "python",
      "nbconvert_exporter": "python",
      "pygments_lexer": "ipython3",
      "version": "3.8"
    },
    "kernelspec": {
      "name": "python",
      "display_name": "Pyolite",
      "language": "python"
    },
    "colab": {
      "provenance": []
    }
  },
  "nbformat": 4,
  "nbformat_minor": 0
}